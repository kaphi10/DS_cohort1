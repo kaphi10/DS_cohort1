{
 "cells": [
  {
   "cell_type": "code",
   "execution_count": 49,
   "id": "93d1deb3",
   "metadata": {},
   "outputs": [],
   "source": [
    "import pandas as pd\n",
    "import numpy as np\n",
    "import matplotlib.pyplot as plt\n",
    "import seaborn as sb\n",
    "%matplotlib inline"
   ]
  },
  {
   "cell_type": "markdown",
   "id": "194f7174",
   "metadata": {},
   "source": [
    "##### Check for the best Ten Genree according to frequency and revenue Generated\n",
    "##### Investement made to the production, Considering profit worthy\n",
    "##### Best movie director,\n",
    "#### Check relationship between popularity and vote_count"
   ]
  },
  {
   "cell_type": "code",
   "execution_count": 50,
   "id": "267d51ba",
   "metadata": {
    "scrolled": true
   },
   "outputs": [
    {
     "data": {
      "text/html": [
       "<div>\n",
       "<style scoped>\n",
       "    .dataframe tbody tr th:only-of-type {\n",
       "        vertical-align: middle;\n",
       "    }\n",
       "\n",
       "    .dataframe tbody tr th {\n",
       "        vertical-align: top;\n",
       "    }\n",
       "\n",
       "    .dataframe thead th {\n",
       "        text-align: right;\n",
       "    }\n",
       "</style>\n",
       "<table border=\"1\" class=\"dataframe\">\n",
       "  <thead>\n",
       "    <tr style=\"text-align: right;\">\n",
       "      <th></th>\n",
       "      <th>id</th>\n",
       "      <th>imdb_id</th>\n",
       "      <th>popularity</th>\n",
       "      <th>budget</th>\n",
       "      <th>revenue</th>\n",
       "      <th>original_title</th>\n",
       "      <th>cast</th>\n",
       "      <th>homepage</th>\n",
       "      <th>director</th>\n",
       "      <th>tagline</th>\n",
       "      <th>...</th>\n",
       "      <th>overview</th>\n",
       "      <th>runtime</th>\n",
       "      <th>genres</th>\n",
       "      <th>production_companies</th>\n",
       "      <th>release_date</th>\n",
       "      <th>vote_count</th>\n",
       "      <th>vote_average</th>\n",
       "      <th>release_year</th>\n",
       "      <th>budget_adj</th>\n",
       "      <th>revenue_adj</th>\n",
       "    </tr>\n",
       "  </thead>\n",
       "  <tbody>\n",
       "    <tr>\n",
       "      <th>0</th>\n",
       "      <td>135397</td>\n",
       "      <td>tt0369610</td>\n",
       "      <td>32.985763</td>\n",
       "      <td>150000000</td>\n",
       "      <td>1513528810</td>\n",
       "      <td>Jurassic World</td>\n",
       "      <td>Chris Pratt|Bryce Dallas Howard|Irrfan Khan|Vi...</td>\n",
       "      <td>http://www.jurassicworld.com/</td>\n",
       "      <td>Colin Trevorrow</td>\n",
       "      <td>The park is open.</td>\n",
       "      <td>...</td>\n",
       "      <td>Twenty-two years after the events of Jurassic ...</td>\n",
       "      <td>124</td>\n",
       "      <td>Action|Adventure|Science Fiction|Thriller</td>\n",
       "      <td>Universal Studios|Amblin Entertainment|Legenda...</td>\n",
       "      <td>6/9/15</td>\n",
       "      <td>5562</td>\n",
       "      <td>6.5</td>\n",
       "      <td>2015</td>\n",
       "      <td>1.379999e+08</td>\n",
       "      <td>1.392446e+09</td>\n",
       "    </tr>\n",
       "    <tr>\n",
       "      <th>1</th>\n",
       "      <td>76341</td>\n",
       "      <td>tt1392190</td>\n",
       "      <td>28.419936</td>\n",
       "      <td>150000000</td>\n",
       "      <td>378436354</td>\n",
       "      <td>Mad Max: Fury Road</td>\n",
       "      <td>Tom Hardy|Charlize Theron|Hugh Keays-Byrne|Nic...</td>\n",
       "      <td>http://www.madmaxmovie.com/</td>\n",
       "      <td>George Miller</td>\n",
       "      <td>What a Lovely Day.</td>\n",
       "      <td>...</td>\n",
       "      <td>An apocalyptic story set in the furthest reach...</td>\n",
       "      <td>120</td>\n",
       "      <td>Action|Adventure|Science Fiction|Thriller</td>\n",
       "      <td>Village Roadshow Pictures|Kennedy Miller Produ...</td>\n",
       "      <td>5/13/15</td>\n",
       "      <td>6185</td>\n",
       "      <td>7.1</td>\n",
       "      <td>2015</td>\n",
       "      <td>1.379999e+08</td>\n",
       "      <td>3.481613e+08</td>\n",
       "    </tr>\n",
       "    <tr>\n",
       "      <th>2</th>\n",
       "      <td>262500</td>\n",
       "      <td>tt2908446</td>\n",
       "      <td>13.112507</td>\n",
       "      <td>110000000</td>\n",
       "      <td>295238201</td>\n",
       "      <td>Insurgent</td>\n",
       "      <td>Shailene Woodley|Theo James|Kate Winslet|Ansel...</td>\n",
       "      <td>http://www.thedivergentseries.movie/#insurgent</td>\n",
       "      <td>Robert Schwentke</td>\n",
       "      <td>One Choice Can Destroy You</td>\n",
       "      <td>...</td>\n",
       "      <td>Beatrice Prior must confront her inner demons ...</td>\n",
       "      <td>119</td>\n",
       "      <td>Adventure|Science Fiction|Thriller</td>\n",
       "      <td>Summit Entertainment|Mandeville Films|Red Wago...</td>\n",
       "      <td>3/18/15</td>\n",
       "      <td>2480</td>\n",
       "      <td>6.3</td>\n",
       "      <td>2015</td>\n",
       "      <td>1.012000e+08</td>\n",
       "      <td>2.716190e+08</td>\n",
       "    </tr>\n",
       "    <tr>\n",
       "      <th>3</th>\n",
       "      <td>140607</td>\n",
       "      <td>tt2488496</td>\n",
       "      <td>11.173104</td>\n",
       "      <td>200000000</td>\n",
       "      <td>2068178225</td>\n",
       "      <td>Star Wars: The Force Awakens</td>\n",
       "      <td>Harrison Ford|Mark Hamill|Carrie Fisher|Adam D...</td>\n",
       "      <td>http://www.starwars.com/films/star-wars-episod...</td>\n",
       "      <td>J.J. Abrams</td>\n",
       "      <td>Every generation has a story.</td>\n",
       "      <td>...</td>\n",
       "      <td>Thirty years after defeating the Galactic Empi...</td>\n",
       "      <td>136</td>\n",
       "      <td>Action|Adventure|Science Fiction|Fantasy</td>\n",
       "      <td>Lucasfilm|Truenorth Productions|Bad Robot</td>\n",
       "      <td>12/15/15</td>\n",
       "      <td>5292</td>\n",
       "      <td>7.5</td>\n",
       "      <td>2015</td>\n",
       "      <td>1.839999e+08</td>\n",
       "      <td>1.902723e+09</td>\n",
       "    </tr>\n",
       "    <tr>\n",
       "      <th>4</th>\n",
       "      <td>168259</td>\n",
       "      <td>tt2820852</td>\n",
       "      <td>9.335014</td>\n",
       "      <td>190000000</td>\n",
       "      <td>1506249360</td>\n",
       "      <td>Furious 7</td>\n",
       "      <td>Vin Diesel|Paul Walker|Jason Statham|Michelle ...</td>\n",
       "      <td>http://www.furious7.com/</td>\n",
       "      <td>James Wan</td>\n",
       "      <td>Vengeance Hits Home</td>\n",
       "      <td>...</td>\n",
       "      <td>Deckard Shaw seeks revenge against Dominic Tor...</td>\n",
       "      <td>137</td>\n",
       "      <td>Action|Crime|Thriller</td>\n",
       "      <td>Universal Pictures|Original Film|Media Rights ...</td>\n",
       "      <td>4/1/15</td>\n",
       "      <td>2947</td>\n",
       "      <td>7.3</td>\n",
       "      <td>2015</td>\n",
       "      <td>1.747999e+08</td>\n",
       "      <td>1.385749e+09</td>\n",
       "    </tr>\n",
       "  </tbody>\n",
       "</table>\n",
       "<p>5 rows × 21 columns</p>\n",
       "</div>"
      ],
      "text/plain": [
       "       id    imdb_id  popularity     budget     revenue  \\\n",
       "0  135397  tt0369610   32.985763  150000000  1513528810   \n",
       "1   76341  tt1392190   28.419936  150000000   378436354   \n",
       "2  262500  tt2908446   13.112507  110000000   295238201   \n",
       "3  140607  tt2488496   11.173104  200000000  2068178225   \n",
       "4  168259  tt2820852    9.335014  190000000  1506249360   \n",
       "\n",
       "                 original_title  \\\n",
       "0                Jurassic World   \n",
       "1            Mad Max: Fury Road   \n",
       "2                     Insurgent   \n",
       "3  Star Wars: The Force Awakens   \n",
       "4                     Furious 7   \n",
       "\n",
       "                                                cast  \\\n",
       "0  Chris Pratt|Bryce Dallas Howard|Irrfan Khan|Vi...   \n",
       "1  Tom Hardy|Charlize Theron|Hugh Keays-Byrne|Nic...   \n",
       "2  Shailene Woodley|Theo James|Kate Winslet|Ansel...   \n",
       "3  Harrison Ford|Mark Hamill|Carrie Fisher|Adam D...   \n",
       "4  Vin Diesel|Paul Walker|Jason Statham|Michelle ...   \n",
       "\n",
       "                                            homepage          director  \\\n",
       "0                      http://www.jurassicworld.com/   Colin Trevorrow   \n",
       "1                        http://www.madmaxmovie.com/     George Miller   \n",
       "2     http://www.thedivergentseries.movie/#insurgent  Robert Schwentke   \n",
       "3  http://www.starwars.com/films/star-wars-episod...       J.J. Abrams   \n",
       "4                           http://www.furious7.com/         James Wan   \n",
       "\n",
       "                         tagline  ...  \\\n",
       "0              The park is open.  ...   \n",
       "1             What a Lovely Day.  ...   \n",
       "2     One Choice Can Destroy You  ...   \n",
       "3  Every generation has a story.  ...   \n",
       "4            Vengeance Hits Home  ...   \n",
       "\n",
       "                                            overview runtime  \\\n",
       "0  Twenty-two years after the events of Jurassic ...     124   \n",
       "1  An apocalyptic story set in the furthest reach...     120   \n",
       "2  Beatrice Prior must confront her inner demons ...     119   \n",
       "3  Thirty years after defeating the Galactic Empi...     136   \n",
       "4  Deckard Shaw seeks revenge against Dominic Tor...     137   \n",
       "\n",
       "                                      genres  \\\n",
       "0  Action|Adventure|Science Fiction|Thriller   \n",
       "1  Action|Adventure|Science Fiction|Thriller   \n",
       "2         Adventure|Science Fiction|Thriller   \n",
       "3   Action|Adventure|Science Fiction|Fantasy   \n",
       "4                      Action|Crime|Thriller   \n",
       "\n",
       "                                production_companies release_date vote_count  \\\n",
       "0  Universal Studios|Amblin Entertainment|Legenda...       6/9/15       5562   \n",
       "1  Village Roadshow Pictures|Kennedy Miller Produ...      5/13/15       6185   \n",
       "2  Summit Entertainment|Mandeville Films|Red Wago...      3/18/15       2480   \n",
       "3          Lucasfilm|Truenorth Productions|Bad Robot     12/15/15       5292   \n",
       "4  Universal Pictures|Original Film|Media Rights ...       4/1/15       2947   \n",
       "\n",
       "   vote_average  release_year    budget_adj   revenue_adj  \n",
       "0           6.5          2015  1.379999e+08  1.392446e+09  \n",
       "1           7.1          2015  1.379999e+08  3.481613e+08  \n",
       "2           6.3          2015  1.012000e+08  2.716190e+08  \n",
       "3           7.5          2015  1.839999e+08  1.902723e+09  \n",
       "4           7.3          2015  1.747999e+08  1.385749e+09  \n",
       "\n",
       "[5 rows x 21 columns]"
      ]
     },
     "execution_count": 50,
     "metadata": {},
     "output_type": "execute_result"
    }
   ],
   "source": [
    "movie_df=pd.read_csv('tmdb-movies.csv')\n",
    "movie_df.head()"
   ]
  },
  {
   "cell_type": "code",
   "execution_count": 51,
   "id": "bce5b076",
   "metadata": {},
   "outputs": [
    {
     "data": {
      "text/plain": [
       "id                       0.000000\n",
       "imdb_id                  0.092030\n",
       "popularity               0.000000\n",
       "budget                   0.000000\n",
       "revenue                  0.000000\n",
       "original_title           0.000000\n",
       "cast                     0.699429\n",
       "homepage                72.979937\n",
       "director                 0.404933\n",
       "tagline                 25.989324\n",
       "keywords                13.740107\n",
       "overview                 0.036812\n",
       "runtime                  0.000000\n",
       "genres                   0.211669\n",
       "production_companies     9.479109\n",
       "release_date             0.000000\n",
       "vote_count               0.000000\n",
       "vote_average             0.000000\n",
       "release_year             0.000000\n",
       "budget_adj               0.000000\n",
       "revenue_adj              0.000000\n",
       "dtype: float64"
      ]
     },
     "execution_count": 51,
     "metadata": {},
     "output_type": "execute_result"
    }
   ],
   "source": [
    "#Checking for Percentage of Null Values\n",
    "(movie_df.isnull().sum()/len(movie_df))*100"
   ]
  },
  {
   "cell_type": "markdown",
   "id": "4b53ad01",
   "metadata": {},
   "source": [
    "#### Spotted  issue\n",
    "imdb_id , homepage,tagline,keywords,overview, revenue,budget not needed\n",
    "\n",
    "drop null values in cast, director and genre, fillna in production company with mode\n",
    "\n",
    "replace zero in budgetadj and revenue_adj with eigther mean or median depending on the distribution of the data\n",
    "\n",
    "Change the datatype of Release Date to Datetime"
   ]
  },
  {
   "cell_type": "code",
   "execution_count": 52,
   "id": "4231ef41",
   "metadata": {},
   "outputs": [
    {
     "name": "stdout",
     "output_type": "stream",
     "text": [
      "<class 'pandas.core.frame.DataFrame'>\n",
      "RangeIndex: 10866 entries, 0 to 10865\n",
      "Data columns (total 21 columns):\n",
      " #   Column                Non-Null Count  Dtype  \n",
      "---  ------                --------------  -----  \n",
      " 0   id                    10866 non-null  int64  \n",
      " 1   imdb_id               10856 non-null  object \n",
      " 2   popularity            10866 non-null  float64\n",
      " 3   budget                10866 non-null  int64  \n",
      " 4   revenue               10866 non-null  int64  \n",
      " 5   original_title        10866 non-null  object \n",
      " 6   cast                  10790 non-null  object \n",
      " 7   homepage              2936 non-null   object \n",
      " 8   director              10822 non-null  object \n",
      " 9   tagline               8042 non-null   object \n",
      " 10  keywords              9373 non-null   object \n",
      " 11  overview              10862 non-null  object \n",
      " 12  runtime               10866 non-null  int64  \n",
      " 13  genres                10843 non-null  object \n",
      " 14  production_companies  9836 non-null   object \n",
      " 15  release_date          10866 non-null  object \n",
      " 16  vote_count            10866 non-null  int64  \n",
      " 17  vote_average          10866 non-null  float64\n",
      " 18  release_year          10866 non-null  int64  \n",
      " 19  budget_adj            10866 non-null  float64\n",
      " 20  revenue_adj           10866 non-null  float64\n",
      "dtypes: float64(4), int64(6), object(11)\n",
      "memory usage: 1.7+ MB\n"
     ]
    }
   ],
   "source": [
    "movie_df.info()"
   ]
  },
  {
   "cell_type": "code",
   "execution_count": 53,
   "id": "51293cc8",
   "metadata": {},
   "outputs": [],
   "source": [
    "col_drop=['imdb_id','budget','revenue','homepage','tagline','keywords','overview']"
   ]
  },
  {
   "cell_type": "code",
   "execution_count": 54,
   "id": "38ffeb20",
   "metadata": {},
   "outputs": [],
   "source": [
    "movie_df.drop(columns=col_drop, inplace=True)"
   ]
  },
  {
   "cell_type": "code",
   "execution_count": 8,
   "id": "044ce677",
   "metadata": {},
   "outputs": [],
   "source": [
    "# movie_df=movie_df.drop(col_drop, axis=1)"
   ]
  },
  {
   "cell_type": "code",
   "execution_count": 55,
   "id": "21858ec6",
   "metadata": {},
   "outputs": [],
   "source": [
    "movie_df.duplicated().sum()\n",
    "movie_df=movie_df.drop_duplicates()"
   ]
  },
  {
   "cell_type": "code",
   "execution_count": 56,
   "id": "03ef0684",
   "metadata": {},
   "outputs": [],
   "source": [
    "cat_col=movie_df.select_dtypes('object').columns"
   ]
  },
  {
   "cell_type": "code",
   "execution_count": 57,
   "id": "b65bcc20",
   "metadata": {},
   "outputs": [
    {
     "data": {
      "text/plain": [
       "Index(['original_title', 'cast', 'director', 'genres', 'production_companies',\n",
       "       'release_date'],\n",
       "      dtype='object')"
      ]
     },
     "execution_count": 57,
     "metadata": {},
     "output_type": "execute_result"
    }
   ],
   "source": [
    "cat_col"
   ]
  },
  {
   "cell_type": "code",
   "execution_count": 58,
   "id": "f99d1354",
   "metadata": {},
   "outputs": [
    {
     "name": "stdout",
     "output_type": "stream",
     "text": [
      "original_title\n",
      "['Jurassic World' 'Mad Max: Fury Road' 'Insurgent' ...\n",
      " 'Beregis Avtomobilya' \"What's Up, Tiger Lily?\" 'Manos: The Hands of Fate']\n",
      "cast\n",
      "[\"Chris Pratt|Bryce Dallas Howard|Irrfan Khan|Vincent D'Onofrio|Nick Robinson\"\n",
      " 'Tom Hardy|Charlize Theron|Hugh Keays-Byrne|Nicholas Hoult|Josh Helman'\n",
      " 'Shailene Woodley|Theo James|Kate Winslet|Ansel Elgort|Miles Teller' ...\n",
      " 'Innokentiy Smoktunovskiy|Oleg Efremov|Georgi Zhzhyonov|Olga Aroseva|Lyubov Dobrzhanskaya'\n",
      " 'Tatsuya Mihashi|Akiko Wakabayashi|Mie Hama|John Sebastian|Tadao Nakamaru'\n",
      " 'Harold P. Warren|Tom Neyman|John Reynolds|Diane Mahree|Stephanie Nielson']\n",
      "director\n",
      "['Colin Trevorrow' 'George Miller' 'Robert Schwentke' ... 'Alan Rafkin'\n",
      " 'Bruce Brown' 'Harold P. Warren']\n",
      "genres\n",
      "['Action|Adventure|Science Fiction|Thriller'\n",
      " 'Adventure|Science Fiction|Thriller'\n",
      " 'Action|Adventure|Science Fiction|Fantasy' ...\n",
      " 'Adventure|Drama|Action|Family|Foreign' 'Comedy|Family|Mystery|Romance'\n",
      " 'Mystery|Science Fiction|Thriller|Drama']\n",
      "production_companies\n",
      "['Universal Studios|Amblin Entertainment|Legendary Pictures|Fuji Television Network|Dentsu'\n",
      " 'Village Roadshow Pictures|Kennedy Miller Productions'\n",
      " 'Summit Entertainment|Mandeville Films|Red Wagon Entertainment|NeoReel'\n",
      " ... 'Cherokee Productions|Joel Productions|Douglas & Lewis Productions'\n",
      " 'Benedict Pictures Corp.' 'Norm-Iris']\n",
      "release_date\n",
      "['6/9/15' '5/13/15' '3/18/15' ... '12/21/66' '11/2/66' '11/15/66']\n"
     ]
    }
   ],
   "source": [
    "for value in cat_col:\n",
    "    print(value)\n",
    "    print(movie_df[value].unique())"
   ]
  },
  {
   "cell_type": "markdown",
   "id": "43d84534",
   "metadata": {},
   "source": [
    "### Handle missing Values"
   ]
  },
  {
   "cell_type": "code",
   "execution_count": 59,
   "id": "e1bcba36",
   "metadata": {},
   "outputs": [],
   "source": [
    "most=movie_df['production_companies'].value_counts().index[0]"
   ]
  },
  {
   "cell_type": "code",
   "execution_count": 60,
   "id": "53af0490",
   "metadata": {},
   "outputs": [
    {
     "data": {
      "text/plain": [
       "'Paramount Pictures'"
      ]
     },
     "execution_count": 60,
     "metadata": {},
     "output_type": "execute_result"
    }
   ],
   "source": [
    "most=movie_df['production_companies'].value_counts().index[0]\n",
    "most"
   ]
  },
  {
   "cell_type": "code",
   "execution_count": 61,
   "id": "d4d5be7d",
   "metadata": {},
   "outputs": [
    {
     "data": {
      "text/plain": [
       "0    Paramount Pictures\n",
       "Name: production_companies, dtype: object"
      ]
     },
     "execution_count": 61,
     "metadata": {},
     "output_type": "execute_result"
    }
   ],
   "source": [
    "mode_value=movie_df['production_companies'].mode()\n",
    "mode_value"
   ]
  },
  {
   "cell_type": "code",
   "execution_count": 62,
   "id": "8e481fda",
   "metadata": {},
   "outputs": [],
   "source": [
    "movie_df['production_companies']=movie_df['production_companies'].fillna(most)"
   ]
  },
  {
   "cell_type": "code",
   "execution_count": 63,
   "id": "53a55001",
   "metadata": {},
   "outputs": [],
   "source": [
    "movie_df=movie_df.dropna()"
   ]
  },
  {
   "cell_type": "code",
   "execution_count": 64,
   "id": "7d422c6d",
   "metadata": {},
   "outputs": [
    {
     "data": {
      "text/plain": [
       "2900                               Drama|Thriller|War\n",
       "6147                                     Comedy|Drama\n",
       "8879                                           Comedy\n",
       "9933                             Comedy|Drama|Romance\n",
       "1474                            Drama|History|Romance\n",
       "10520                                          Comedy\n",
       "1429                            Science Fiction|Drama\n",
       "6671                       Adventure|Animation|Family\n",
       "7392     Drama|Horror|Action|Thriller|Science Fiction\n",
       "1779            Fantasy|Drama|Science Fiction|Foreign\n",
       "Name: genres, dtype: object"
      ]
     },
     "execution_count": 64,
     "metadata": {},
     "output_type": "execute_result"
    }
   ],
   "source": [
    "movie_df['genres'].sample(10)"
   ]
  },
  {
   "cell_type": "code",
   "execution_count": 65,
   "id": "ac3f7255",
   "metadata": {},
   "outputs": [],
   "source": [
    "def remove_pipe(row):\n",
    "    return row.split('|')[0]"
   ]
  },
  {
   "cell_type": "code",
   "execution_count": 66,
   "id": "c414ca44",
   "metadata": {},
   "outputs": [],
   "source": [
    "pipe_col=['cast','genres','production_companies','director']"
   ]
  },
  {
   "cell_type": "code",
   "execution_count": 67,
   "id": "31ced4ee",
   "metadata": {},
   "outputs": [],
   "source": [
    "for col in pipe_col:\n",
    "    movie_df[col]=movie_df[col].apply(remove_pipe)"
   ]
  },
  {
   "cell_type": "code",
   "execution_count": 68,
   "id": "72ea6dca",
   "metadata": {},
   "outputs": [
    {
     "data": {
      "text/html": [
       "<div>\n",
       "<style scoped>\n",
       "    .dataframe tbody tr th:only-of-type {\n",
       "        vertical-align: middle;\n",
       "    }\n",
       "\n",
       "    .dataframe tbody tr th {\n",
       "        vertical-align: top;\n",
       "    }\n",
       "\n",
       "    .dataframe thead th {\n",
       "        text-align: right;\n",
       "    }\n",
       "</style>\n",
       "<table border=\"1\" class=\"dataframe\">\n",
       "  <thead>\n",
       "    <tr style=\"text-align: right;\">\n",
       "      <th></th>\n",
       "      <th>id</th>\n",
       "      <th>popularity</th>\n",
       "      <th>original_title</th>\n",
       "      <th>cast</th>\n",
       "      <th>director</th>\n",
       "      <th>runtime</th>\n",
       "      <th>genres</th>\n",
       "      <th>production_companies</th>\n",
       "      <th>release_date</th>\n",
       "      <th>vote_count</th>\n",
       "      <th>vote_average</th>\n",
       "      <th>release_year</th>\n",
       "      <th>budget_adj</th>\n",
       "      <th>revenue_adj</th>\n",
       "    </tr>\n",
       "  </thead>\n",
       "  <tbody>\n",
       "    <tr>\n",
       "      <th>0</th>\n",
       "      <td>135397</td>\n",
       "      <td>32.985763</td>\n",
       "      <td>Jurassic World</td>\n",
       "      <td>Chris Pratt</td>\n",
       "      <td>Colin Trevorrow</td>\n",
       "      <td>124</td>\n",
       "      <td>Action</td>\n",
       "      <td>Universal Studios</td>\n",
       "      <td>6/9/15</td>\n",
       "      <td>5562</td>\n",
       "      <td>6.5</td>\n",
       "      <td>2015</td>\n",
       "      <td>1.379999e+08</td>\n",
       "      <td>1.392446e+09</td>\n",
       "    </tr>\n",
       "    <tr>\n",
       "      <th>1</th>\n",
       "      <td>76341</td>\n",
       "      <td>28.419936</td>\n",
       "      <td>Mad Max: Fury Road</td>\n",
       "      <td>Tom Hardy</td>\n",
       "      <td>George Miller</td>\n",
       "      <td>120</td>\n",
       "      <td>Action</td>\n",
       "      <td>Village Roadshow Pictures</td>\n",
       "      <td>5/13/15</td>\n",
       "      <td>6185</td>\n",
       "      <td>7.1</td>\n",
       "      <td>2015</td>\n",
       "      <td>1.379999e+08</td>\n",
       "      <td>3.481613e+08</td>\n",
       "    </tr>\n",
       "    <tr>\n",
       "      <th>2</th>\n",
       "      <td>262500</td>\n",
       "      <td>13.112507</td>\n",
       "      <td>Insurgent</td>\n",
       "      <td>Shailene Woodley</td>\n",
       "      <td>Robert Schwentke</td>\n",
       "      <td>119</td>\n",
       "      <td>Adventure</td>\n",
       "      <td>Summit Entertainment</td>\n",
       "      <td>3/18/15</td>\n",
       "      <td>2480</td>\n",
       "      <td>6.3</td>\n",
       "      <td>2015</td>\n",
       "      <td>1.012000e+08</td>\n",
       "      <td>2.716190e+08</td>\n",
       "    </tr>\n",
       "    <tr>\n",
       "      <th>3</th>\n",
       "      <td>140607</td>\n",
       "      <td>11.173104</td>\n",
       "      <td>Star Wars: The Force Awakens</td>\n",
       "      <td>Harrison Ford</td>\n",
       "      <td>J.J. Abrams</td>\n",
       "      <td>136</td>\n",
       "      <td>Action</td>\n",
       "      <td>Lucasfilm</td>\n",
       "      <td>12/15/15</td>\n",
       "      <td>5292</td>\n",
       "      <td>7.5</td>\n",
       "      <td>2015</td>\n",
       "      <td>1.839999e+08</td>\n",
       "      <td>1.902723e+09</td>\n",
       "    </tr>\n",
       "    <tr>\n",
       "      <th>4</th>\n",
       "      <td>168259</td>\n",
       "      <td>9.335014</td>\n",
       "      <td>Furious 7</td>\n",
       "      <td>Vin Diesel</td>\n",
       "      <td>James Wan</td>\n",
       "      <td>137</td>\n",
       "      <td>Action</td>\n",
       "      <td>Universal Pictures</td>\n",
       "      <td>4/1/15</td>\n",
       "      <td>2947</td>\n",
       "      <td>7.3</td>\n",
       "      <td>2015</td>\n",
       "      <td>1.747999e+08</td>\n",
       "      <td>1.385749e+09</td>\n",
       "    </tr>\n",
       "  </tbody>\n",
       "</table>\n",
       "</div>"
      ],
      "text/plain": [
       "       id  popularity                original_title              cast  \\\n",
       "0  135397   32.985763                Jurassic World       Chris Pratt   \n",
       "1   76341   28.419936            Mad Max: Fury Road         Tom Hardy   \n",
       "2  262500   13.112507                     Insurgent  Shailene Woodley   \n",
       "3  140607   11.173104  Star Wars: The Force Awakens     Harrison Ford   \n",
       "4  168259    9.335014                     Furious 7        Vin Diesel   \n",
       "\n",
       "           director  runtime     genres       production_companies  \\\n",
       "0   Colin Trevorrow      124     Action          Universal Studios   \n",
       "1     George Miller      120     Action  Village Roadshow Pictures   \n",
       "2  Robert Schwentke      119  Adventure       Summit Entertainment   \n",
       "3       J.J. Abrams      136     Action                  Lucasfilm   \n",
       "4         James Wan      137     Action         Universal Pictures   \n",
       "\n",
       "  release_date  vote_count  vote_average  release_year    budget_adj  \\\n",
       "0       6/9/15        5562           6.5          2015  1.379999e+08   \n",
       "1      5/13/15        6185           7.1          2015  1.379999e+08   \n",
       "2      3/18/15        2480           6.3          2015  1.012000e+08   \n",
       "3     12/15/15        5292           7.5          2015  1.839999e+08   \n",
       "4       4/1/15        2947           7.3          2015  1.747999e+08   \n",
       "\n",
       "    revenue_adj  \n",
       "0  1.392446e+09  \n",
       "1  3.481613e+08  \n",
       "2  2.716190e+08  \n",
       "3  1.902723e+09  \n",
       "4  1.385749e+09  "
      ]
     },
     "execution_count": 68,
     "metadata": {},
     "output_type": "execute_result"
    }
   ],
   "source": [
    "movie_df.head()"
   ]
  },
  {
   "cell_type": "markdown",
   "id": "54ad88e5",
   "metadata": {},
   "source": [
    "idea convert the none back to np.nan, use groupby to check the mode and fillna with the mode according to the groupby"
   ]
  },
  {
   "cell_type": "markdown",
   "id": "2d208fda",
   "metadata": {},
   "source": [
    "Change Datatype of Release Date Coulumn from str to datetime"
   ]
  },
  {
   "cell_type": "code",
   "execution_count": 69,
   "id": "74669894",
   "metadata": {},
   "outputs": [],
   "source": [
    "movie_df['release_date']=pd.to_datetime(movie_df['release_date'])"
   ]
  },
  {
   "cell_type": "code",
   "execution_count": 70,
   "id": "7d0f82b5",
   "metadata": {},
   "outputs": [
    {
     "name": "stdout",
     "output_type": "stream",
     "text": [
      "<class 'pandas.core.frame.DataFrame'>\n",
      "Int64Index: 10731 entries, 0 to 10865\n",
      "Data columns (total 14 columns):\n",
      " #   Column                Non-Null Count  Dtype         \n",
      "---  ------                --------------  -----         \n",
      " 0   id                    10731 non-null  int64         \n",
      " 1   popularity            10731 non-null  float64       \n",
      " 2   original_title        10731 non-null  object        \n",
      " 3   cast                  10731 non-null  object        \n",
      " 4   director              10731 non-null  object        \n",
      " 5   runtime               10731 non-null  int64         \n",
      " 6   genres                10731 non-null  object        \n",
      " 7   production_companies  10731 non-null  object        \n",
      " 8   release_date          10731 non-null  datetime64[ns]\n",
      " 9   vote_count            10731 non-null  int64         \n",
      " 10  vote_average          10731 non-null  float64       \n",
      " 11  release_year          10731 non-null  int64         \n",
      " 12  budget_adj            10731 non-null  float64       \n",
      " 13  revenue_adj           10731 non-null  float64       \n",
      "dtypes: datetime64[ns](1), float64(4), int64(4), object(5)\n",
      "memory usage: 1.2+ MB\n"
     ]
    }
   ],
   "source": [
    "movie_df.info()"
   ]
  },
  {
   "cell_type": "code",
   "execution_count": 82,
   "id": "158d66bf",
   "metadata": {},
   "outputs": [
    {
     "data": {
      "text/html": [
       "<div>\n",
       "<style scoped>\n",
       "    .dataframe tbody tr th:only-of-type {\n",
       "        vertical-align: middle;\n",
       "    }\n",
       "\n",
       "    .dataframe tbody tr th {\n",
       "        vertical-align: top;\n",
       "    }\n",
       "\n",
       "    .dataframe thead th {\n",
       "        text-align: right;\n",
       "    }\n",
       "</style>\n",
       "<table border=\"1\" class=\"dataframe\">\n",
       "  <thead>\n",
       "    <tr style=\"text-align: right;\">\n",
       "      <th></th>\n",
       "      <th>id</th>\n",
       "      <th>popularity</th>\n",
       "      <th>runtime</th>\n",
       "      <th>vote_count</th>\n",
       "      <th>vote_average</th>\n",
       "      <th>release_year</th>\n",
       "      <th>budget_adj</th>\n",
       "      <th>revenue_adj</th>\n",
       "    </tr>\n",
       "  </thead>\n",
       "  <tbody>\n",
       "    <tr>\n",
       "      <th>count</th>\n",
       "      <td>10731.000000</td>\n",
       "      <td>10731.000000</td>\n",
       "      <td>10731.000000</td>\n",
       "      <td>10731.000000</td>\n",
       "      <td>10731.000000</td>\n",
       "      <td>10731.000000</td>\n",
       "      <td>1.073100e+04</td>\n",
       "      <td>1.073100e+04</td>\n",
       "    </tr>\n",
       "    <tr>\n",
       "      <th>mean</th>\n",
       "      <td>65201.741869</td>\n",
       "      <td>0.652615</td>\n",
       "      <td>102.468829</td>\n",
       "      <td>219.812972</td>\n",
       "      <td>5.964710</td>\n",
       "      <td>2001.259622</td>\n",
       "      <td>1.776530e+07</td>\n",
       "      <td>5.200623e+07</td>\n",
       "    </tr>\n",
       "    <tr>\n",
       "      <th>std</th>\n",
       "      <td>91470.508056</td>\n",
       "      <td>1.004804</td>\n",
       "      <td>30.493873</td>\n",
       "      <td>578.815324</td>\n",
       "      <td>0.930283</td>\n",
       "      <td>12.820151</td>\n",
       "      <td>3.446630e+07</td>\n",
       "      <td>1.454252e+08</td>\n",
       "    </tr>\n",
       "    <tr>\n",
       "      <th>min</th>\n",
       "      <td>5.000000</td>\n",
       "      <td>0.000188</td>\n",
       "      <td>0.000000</td>\n",
       "      <td>10.000000</td>\n",
       "      <td>1.500000</td>\n",
       "      <td>1960.000000</td>\n",
       "      <td>0.000000e+00</td>\n",
       "      <td>0.000000e+00</td>\n",
       "    </tr>\n",
       "    <tr>\n",
       "      <th>25%</th>\n",
       "      <td>10547.500000</td>\n",
       "      <td>0.210765</td>\n",
       "      <td>90.000000</td>\n",
       "      <td>17.000000</td>\n",
       "      <td>5.400000</td>\n",
       "      <td>1995.000000</td>\n",
       "      <td>0.000000e+00</td>\n",
       "      <td>0.000000e+00</td>\n",
       "    </tr>\n",
       "    <tr>\n",
       "      <th>50%</th>\n",
       "      <td>20323.000000</td>\n",
       "      <td>0.387081</td>\n",
       "      <td>99.000000</td>\n",
       "      <td>39.000000</td>\n",
       "      <td>6.000000</td>\n",
       "      <td>2006.000000</td>\n",
       "      <td>0.000000e+00</td>\n",
       "      <td>0.000000e+00</td>\n",
       "    </tr>\n",
       "    <tr>\n",
       "      <th>75%</th>\n",
       "      <td>73948.500000</td>\n",
       "      <td>0.720889</td>\n",
       "      <td>112.000000</td>\n",
       "      <td>148.000000</td>\n",
       "      <td>6.600000</td>\n",
       "      <td>2011.000000</td>\n",
       "      <td>2.110885e+07</td>\n",
       "      <td>3.470546e+07</td>\n",
       "    </tr>\n",
       "    <tr>\n",
       "      <th>max</th>\n",
       "      <td>417859.000000</td>\n",
       "      <td>32.985763</td>\n",
       "      <td>900.000000</td>\n",
       "      <td>9767.000000</td>\n",
       "      <td>9.200000</td>\n",
       "      <td>2015.000000</td>\n",
       "      <td>4.250000e+08</td>\n",
       "      <td>2.827124e+09</td>\n",
       "    </tr>\n",
       "  </tbody>\n",
       "</table>\n",
       "</div>"
      ],
      "text/plain": [
       "                  id    popularity       runtime    vote_count  vote_average  \\\n",
       "count   10731.000000  10731.000000  10731.000000  10731.000000  10731.000000   \n",
       "mean    65201.741869      0.652615    102.468829    219.812972      5.964710   \n",
       "std     91470.508056      1.004804     30.493873    578.815324      0.930283   \n",
       "min         5.000000      0.000188      0.000000     10.000000      1.500000   \n",
       "25%     10547.500000      0.210765     90.000000     17.000000      5.400000   \n",
       "50%     20323.000000      0.387081     99.000000     39.000000      6.000000   \n",
       "75%     73948.500000      0.720889    112.000000    148.000000      6.600000   \n",
       "max    417859.000000     32.985763    900.000000   9767.000000      9.200000   \n",
       "\n",
       "       release_year    budget_adj   revenue_adj  \n",
       "count  10731.000000  1.073100e+04  1.073100e+04  \n",
       "mean    2001.259622  1.776530e+07  5.200623e+07  \n",
       "std       12.820151  3.446630e+07  1.454252e+08  \n",
       "min     1960.000000  0.000000e+00  0.000000e+00  \n",
       "25%     1995.000000  0.000000e+00  0.000000e+00  \n",
       "50%     2006.000000  0.000000e+00  0.000000e+00  \n",
       "75%     2011.000000  2.110885e+07  3.470546e+07  \n",
       "max     2015.000000  4.250000e+08  2.827124e+09  "
      ]
     },
     "execution_count": 82,
     "metadata": {},
     "output_type": "execute_result"
    }
   ],
   "source": [
    "movie_df.describe()"
   ]
  },
  {
   "cell_type": "code",
   "execution_count": 83,
   "id": "35a4e6bc",
   "metadata": {},
   "outputs": [
    {
     "data": {
      "text/plain": [
       "51.9802441524555"
      ]
     },
     "execution_count": 83,
     "metadata": {},
     "output_type": "execute_result"
    }
   ],
   "source": [
    "len(movie_df[movie_df['budget_adj']==0])/len(movie_df)*100"
   ]
  },
  {
   "cell_type": "code",
   "execution_count": 84,
   "id": "b8a3e48c",
   "metadata": {},
   "outputs": [
    {
     "data": {
      "text/plain": [
       "54.86907091603764"
      ]
     },
     "execution_count": 84,
     "metadata": {},
     "output_type": "execute_result"
    }
   ],
   "source": [
    "len(movie_df[movie_df['revenue_adj']==0])/len(movie_df)*100"
   ]
  },
  {
   "cell_type": "code",
   "execution_count": 85,
   "id": "f6d6e64b",
   "metadata": {},
   "outputs": [
    {
     "data": {
      "text/plain": [
       "production_companies       director              \n",
       "Boram Entertainment Inc.   Sngmoo Lee                4.250000e+08\n",
       "DC Comics                  Bryan Singer              2.920507e+08\n",
       "Paramount Pictures         James Cameron             2.716921e+08\n",
       "Universal Pictures         Kevin Reynolds            2.504192e+08\n",
       "Ingenious Film Partners    James Cameron             2.408869e+08\n",
       "                                                         ...     \n",
       "Metro-Goldwyn-Mayer (MGM)  Martha Coolidge           0.000000e+00\n",
       "                           Mario Philip Azzopardi    0.000000e+00\n",
       "                           Lewis Milestone           0.000000e+00\n",
       "                           Lee Tamahori              0.000000e+00\n",
       "í”„ë¡œë•ì…˜M               Lee Myung-Se              0.000000e+00\n",
       "Name: budget_adj, Length: 9352, dtype: float64"
      ]
     },
     "execution_count": 85,
     "metadata": {},
     "output_type": "execute_result"
    }
   ],
   "source": [
    "movie_df.groupby(['production_companies','director'])['budget_adj'].mean().sort_values(ascending=False)"
   ]
  },
  {
   "cell_type": "code",
   "execution_count": 86,
   "id": "1aff8853",
   "metadata": {},
   "outputs": [
    {
     "data": {
      "text/plain": [
       "3029"
      ]
     },
     "execution_count": 86,
     "metadata": {},
     "output_type": "execute_result"
    }
   ],
   "source": [
    "movie_df['production_companies'].nunique()"
   ]
  },
  {
   "cell_type": "code",
   "execution_count": 76,
   "id": "0a3e291b",
   "metadata": {
    "scrolled": true
   },
   "outputs": [
    {
     "data": {
      "text/plain": [
       "Woody Allen          46\n",
       "Clint Eastwood       34\n",
       "Steven Spielberg     29\n",
       "Martin Scorsese      29\n",
       "Ridley Scott         23\n",
       "Steven Soderbergh    22\n",
       "Ron Howard           22\n",
       "Joel Schumacher      21\n",
       "Brian De Palma       20\n",
       "John Carpenter       19\n",
       "Barry Levinson       19\n",
       "Tim Burton           19\n",
       "Wes Craven           19\n",
       "Mike Nichols         18\n",
       "David Cronenberg     18\n",
       "Rob Reiner           18\n",
       "Walter Hill          18\n",
       "Renny Harlin         17\n",
       "Peter Hyams          17\n",
       "Robert Rodriguez     17\n",
       "Name: director, dtype: int64"
      ]
     },
     "execution_count": 76,
     "metadata": {},
     "output_type": "execute_result"
    }
   ],
   "source": [
    "movie_df['director'].value_counts()[:20]"
   ]
  },
  {
   "cell_type": "code",
   "execution_count": 87,
   "id": "8cc7a642",
   "metadata": {},
   "outputs": [
    {
     "data": {
      "image/png": "[encoded data removed]",
      "text/plain": [
       "<Figure size 640x480 with 1 Axes>"
      ]
     },
     "metadata": {},
     "output_type": "display_data"
    }
   ],
   "source": [
    "plt.hist(movie_df['budget_adj'], bins=20);"
   ]
  },
  {
   "cell_type": "code",
   "execution_count": 97,
   "id": "090a1f40",
   "metadata": {},
   "outputs": [
    {
     "data": {
      "image/png": "[encoded data removed]",
      "text/plain": [
       "<Figure size 640x480 with 1 Axes>"
      ]
     },
     "metadata": {},
     "output_type": "display_data"
    }
   ],
   "source": [
    "plt.boxplot(row_cal['revenue_adj']);"
   ]
  },
  {
   "cell_type": "code",
   "execution_count": 81,
   "id": "3c79e6b7",
   "metadata": {},
   "outputs": [
    {
     "name": "stdout",
     "output_type": "stream",
     "text": [
      "<class 'pandas.core.frame.DataFrame'>\n",
      "Int64Index: 10731 entries, 0 to 10865\n",
      "Data columns (total 14 columns):\n",
      " #   Column                Non-Null Count  Dtype         \n",
      "---  ------                --------------  -----         \n",
      " 0   id                    10731 non-null  int64         \n",
      " 1   popularity            10731 non-null  float64       \n",
      " 2   original_title        10731 non-null  object        \n",
      " 3   cast                  10731 non-null  object        \n",
      " 4   director              10731 non-null  object        \n",
      " 5   runtime               10731 non-null  int64         \n",
      " 6   genres                10731 non-null  object        \n",
      " 7   production_companies  10731 non-null  object        \n",
      " 8   release_date          10731 non-null  datetime64[ns]\n",
      " 9   vote_count            10731 non-null  int64         \n",
      " 10  vote_average          10731 non-null  float64       \n",
      " 11  release_year          10731 non-null  int64         \n",
      " 12  budget_adj            10731 non-null  float64       \n",
      " 13  revenue_adj           10731 non-null  float64       \n",
      "dtypes: datetime64[ns](1), float64(4), int64(4), object(5)\n",
      "memory usage: 1.2+ MB\n"
     ]
    }
   ],
   "source": [
    "movie_df.info()"
   ]
  },
  {
   "cell_type": "code",
   "execution_count": 92,
   "id": "8cb90847",
   "metadata": {},
   "outputs": [],
   "source": [
    "row_cal=movie_df[movie_df['revenue_adj']!=0]\n",
    "median_revenue=row_cal['revenue_adj'].median()"
   ]
  },
  {
   "cell_type": "code",
   "execution_count": 95,
   "id": "680cc150",
   "metadata": {},
   "outputs": [
    {
     "data": {
      "text/plain": [
       "22878673.0892549"
      ]
     },
     "execution_count": 95,
     "metadata": {},
     "output_type": "execute_result"
    }
   ],
   "source": [
    "row_cal=movie_df[movie_df['budget_adj']!=0]\n",
    "median_budget=row_cal['budget_adj'].median()\n",
    "median_budget"
   ]
  },
  {
   "cell_type": "code",
   "execution_count": 98,
   "id": "b427f4f6",
   "metadata": {},
   "outputs": [
    {
     "data": {
      "text/plain": [
       "count    5.153000e+03\n",
       "mean     3.699582e+07\n",
       "std      4.198202e+07\n",
       "min      9.210911e-01\n",
       "25%      8.142944e+06\n",
       "50%      2.287867e+07\n",
       "75%      5.024535e+07\n",
       "max      4.250000e+08\n",
       "Name: budget_adj, dtype: float64"
      ]
     },
     "execution_count": 98,
     "metadata": {},
     "output_type": "execute_result"
    }
   ],
   "source": [
    "row_cal['budget_adj'].describe()"
   ]
  },
  {
   "cell_type": "code",
   "execution_count": null,
   "id": "1ab9aa2e",
   "metadata": {},
   "outputs": [],
   "source": []
  },
  {
   "cell_type": "code",
   "execution_count": 93,
   "id": "186ec264",
   "metadata": {},
   "outputs": [
    {
     "data": {
      "text/plain": [
       "44028788.7291762"
      ]
     },
     "execution_count": 93,
     "metadata": {},
     "output_type": "execute_result"
    }
   ],
   "source": [
    "median_revenue"
   ]
  },
  {
   "cell_type": "code",
   "execution_count": 90,
   "id": "2ce208be",
   "metadata": {},
   "outputs": [
    {
     "data": {
      "text/plain": [
       "17765303.27294331"
      ]
     },
     "execution_count": 90,
     "metadata": {},
     "output_type": "execute_result"
    }
   ],
   "source": [
    "movie_df['budget_adj'].mean()"
   ]
  },
  {
   "cell_type": "code",
   "execution_count": 91,
   "id": "25f02933",
   "metadata": {},
   "outputs": [
    {
     "data": {
      "text/plain": [
       "0.0"
      ]
     },
     "execution_count": 91,
     "metadata": {},
     "output_type": "execute_result"
    }
   ],
   "source": [
    "median=movie_df['budget_adj'].median()\n",
    "median"
   ]
  },
  {
   "cell_type": "code",
   "execution_count": 96,
   "id": "5e71ca12",
   "metadata": {},
   "outputs": [
    {
     "data": {
      "image/png": "[encoded data removed]",
      "text/plain": [
       "<Figure size 640x480 with 1 Axes>"
      ]
     },
     "metadata": {},
     "output_type": "display_data"
    }
   ],
   "source": [
    "plt.boxplot(row_cal['budget_adj']);"
   ]
  },
  {
   "cell_type": "code",
   "execution_count": 38,
   "id": "2ed7cf48",
   "metadata": {},
   "outputs": [
    {
     "name": "stderr",
     "output_type": "stream",
     "text": [
      "C:\\Users\\HP\\AppData\\Local\\Temp\\ipykernel_11668\\201697878.py:1: SettingWithCopyWarning: \n",
      "A value is trying to be set on a copy of a slice from a DataFrame.\n",
      "Try using .loc[row_indexer,col_indexer] = value instead\n",
      "\n",
      "See the caveats in the documentation: https://pandas.pydata.org/pandas-docs/stable/user_guide/indexing.html#returning-a-view-versus-a-copy\n",
      "  movie_df['budget_adj']=movie_df['budget_adj'].replace(0.0, median)\n"
     ]
    }
   ],
   "source": [
    "movie_df['budget_adj']=movie_df['budget_adj'].replace(0.0, median)"
   ]
  },
  {
   "cell_type": "code",
   "execution_count": 42,
   "id": "cf4eb3b2",
   "metadata": {},
   "outputs": [],
   "source": [
    "media_reve=movie_df['revenue_adj'].median()"
   ]
  },
  {
   "cell_type": "code",
   "execution_count": 43,
   "id": "3ae94a9b",
   "metadata": {},
   "outputs": [
    {
     "name": "stderr",
     "output_type": "stream",
     "text": [
      "C:\\Users\\HP\\AppData\\Local\\Temp\\ipykernel_11668\\60639262.py:1: SettingWithCopyWarning: \n",
      "A value is trying to be set on a copy of a slice from a DataFrame.\n",
      "Try using .loc[row_indexer,col_indexer] = value instead\n",
      "\n",
      "See the caveats in the documentation: https://pandas.pydata.org/pandas-docs/stable/user_guide/indexing.html#returning-a-view-versus-a-copy\n",
      "  movie_df['revenue_adj']=movie_df['revenue_adj'].replace(0.0, media_reve)\n"
     ]
    }
   ],
   "source": [
    "movie_df['revenue_adj']=movie_df['revenue_adj'].replace(0.0, media_reve)"
   ]
  },
  {
   "cell_type": "code",
   "execution_count": 44,
   "id": "62843e8c",
   "metadata": {},
   "outputs": [
    {
     "data": {
      "text/plain": [
       "0.0"
      ]
     },
     "execution_count": 44,
     "metadata": {},
     "output_type": "execute_result"
    }
   ],
   "source": [
    "len(movie_df[movie_df['budget_adj']==0])/len(movie_df)"
   ]
  },
  {
   "cell_type": "code",
   "execution_count": 45,
   "id": "95a36a5e",
   "metadata": {},
   "outputs": [
    {
     "data": {
      "text/plain": [
       "0.5139173147769136"
      ]
     },
     "execution_count": 45,
     "metadata": {},
     "output_type": "execute_result"
    }
   ],
   "source": [
    "len(movie_df[movie_df['revenue_adj']==0])/len(movie_df)"
   ]
  },
  {
   "cell_type": "code",
   "execution_count": 46,
   "id": "ab302d39",
   "metadata": {},
   "outputs": [
    {
     "data": {
      "image/png": "[encoded data removed]",
      "text/plain": [
       "<Figure size 640x480 with 1 Axes>"
      ]
     },
     "metadata": {},
     "output_type": "display_data"
    }
   ],
   "source": [
    "plt.hist(movie_df['budget_adj'], bins=20);"
   ]
  },
  {
   "cell_type": "code",
   "execution_count": 47,
   "id": "700887b6",
   "metadata": {},
   "outputs": [
    {
     "data": {
      "text/plain": [
       "count    9.772000e+03\n",
       "mean     1.956483e+07\n",
       "std      3.558554e+07\n",
       "min      9.210911e-01\n",
       "25%      3.061342e+05\n",
       "50%      3.087798e+05\n",
       "75%      2.464268e+07\n",
       "max      4.250000e+08\n",
       "Name: budget_adj, dtype: float64"
      ]
     },
     "execution_count": 47,
     "metadata": {},
     "output_type": "execute_result"
    }
   ],
   "source": [
    "movie_df['budget_adj'].describe()"
   ]
  },
  {
   "cell_type": "code",
   "execution_count": 48,
   "id": "53e7d95d",
   "metadata": {},
   "outputs": [
    {
     "data": {
      "text/plain": [
       "count    9.772000e+03\n",
       "mean     5.705309e+07\n",
       "std      1.514499e+08\n",
       "min      0.000000e+00\n",
       "25%      0.000000e+00\n",
       "50%      0.000000e+00\n",
       "75%      4.311848e+07\n",
       "max      2.827124e+09\n",
       "Name: revenue_adj, dtype: float64"
      ]
     },
     "execution_count": 48,
     "metadata": {},
     "output_type": "execute_result"
    }
   ],
   "source": [
    "movie_df['revenue_adj'].describe()"
   ]
  },
  {
   "cell_type": "code",
   "execution_count": null,
   "id": "e02e6f1a",
   "metadata": {},
   "outputs": [],
   "source": [
    "movie_df.to_csv('Cleaned_movies.csv', index=False)"
   ]
  },
  {
   "cell_type": "code",
   "execution_count": 257,
   "id": "804f42a0",
   "metadata": {},
   "outputs": [
    {
     "data": {
      "text/plain": [
       "Woody Allen          43\n",
       "Clint Eastwood       34\n",
       "Steven Spielberg     29\n",
       "Martin Scorsese      27\n",
       "Ridley Scott         23\n",
       "Ron Howard           22\n",
       "Steven Soderbergh    22\n",
       "Joel Schumacher      21\n",
       "Brian De Palma       20\n",
       "Tim Burton           19\n",
       "Name: director, dtype: int64"
      ]
     },
     "execution_count": 257,
     "metadata": {},
     "output_type": "execute_result"
    }
   ],
   "source": [
    "movie_df['director'].value_counts()[:10]"
   ]
  },
  {
   "cell_type": "code",
   "execution_count": 259,
   "id": "77d863c8",
   "metadata": {},
   "outputs": [
    {
     "data": {
      "text/plain": [
       "2009-01-01    24\n",
       "2008-01-01    13\n",
       "2014-10-10    13\n",
       "2012-09-07    12\n",
       "2007-01-01    11\n",
       "              ..\n",
       "2004-09-17     1\n",
       "2004-11-03     1\n",
       "2004-11-14     1\n",
       "2004-11-26     1\n",
       "2066-11-15     1\n",
       "Name: release_date, Length: 5602, dtype: int64"
      ]
     },
     "execution_count": 259,
     "metadata": {},
     "output_type": "execute_result"
    }
   ],
   "source": [
    "movie_df['release_date'].value_counts()"
   ]
  },
  {
   "cell_type": "code",
   "execution_count": null,
   "id": "480ca284",
   "metadata": {},
   "outputs": [],
   "source": []
  }
 ],
 "metadata": {
  "kernelspec": {
   "display_name": "Python 3 (ipykernel)",
   "language": "python",
   "name": "python3"
  },
  "language_info": {
   "codemirror_mode": {
    "name": "ipython",
    "version": 3
   },
   "file_extension": ".py",
   "mimetype": "text/x-python",
   "name": "python",
   "nbconvert_exporter": "python",
   "pygments_lexer": "ipython3",
   "version": "3.11.4"
  }
 },
 "nbformat": 4,
 "nbformat_minor": 5
}
