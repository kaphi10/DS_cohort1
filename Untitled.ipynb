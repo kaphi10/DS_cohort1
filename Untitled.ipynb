{
 "cells": [
  {
   "cell_type": "code",
   "execution_count": 1,
   "id": "080ab0dc",
   "metadata": {},
   "outputs": [],
   "source": [
    "import pandas as pd\n",
    "import numpy as np\n",
    "%matplotlib inline"
   ]
  },
  {
   "cell_type": "code",
   "execution_count": 2,
   "id": "4630fc8a",
   "metadata": {},
   "outputs": [
    {
     "name": "stdout",
     "output_type": "stream",
     "text": [
      "(69214, 6)\n"
     ]
    },
    {
     "data": {
      "text/html": [
       "<div>\n",
       "<style scoped>\n",
       "    .dataframe tbody tr th:only-of-type {\n",
       "        vertical-align: middle;\n",
       "    }\n",
       "\n",
       "    .dataframe tbody tr th {\n",
       "        vertical-align: top;\n",
       "    }\n",
       "\n",
       "    .dataframe thead th {\n",
       "        text-align: right;\n",
       "    }\n",
       "</style>\n",
       "<table border=\"1\" class=\"dataframe\">\n",
       "  <thead>\n",
       "    <tr style=\"text-align: right;\">\n",
       "      <th></th>\n",
       "      <th>Year of Birth</th>\n",
       "      <th>Gender</th>\n",
       "      <th>Ethnicity</th>\n",
       "      <th>Child's First Name</th>\n",
       "      <th>Count</th>\n",
       "      <th>Rank</th>\n",
       "    </tr>\n",
       "  </thead>\n",
       "  <tbody>\n",
       "    <tr>\n",
       "      <th>0</th>\n",
       "      <td>2011</td>\n",
       "      <td>FEMALE</td>\n",
       "      <td>HISPANIC</td>\n",
       "      <td>GERALDINE</td>\n",
       "      <td>13</td>\n",
       "      <td>75</td>\n",
       "    </tr>\n",
       "    <tr>\n",
       "      <th>1</th>\n",
       "      <td>2011</td>\n",
       "      <td>FEMALE</td>\n",
       "      <td>HISPANIC</td>\n",
       "      <td>GIA</td>\n",
       "      <td>21</td>\n",
       "      <td>67</td>\n",
       "    </tr>\n",
       "    <tr>\n",
       "      <th>2</th>\n",
       "      <td>2011</td>\n",
       "      <td>FEMALE</td>\n",
       "      <td>HISPANIC</td>\n",
       "      <td>GIANNA</td>\n",
       "      <td>49</td>\n",
       "      <td>42</td>\n",
       "    </tr>\n",
       "    <tr>\n",
       "      <th>3</th>\n",
       "      <td>2011</td>\n",
       "      <td>FEMALE</td>\n",
       "      <td>HISPANIC</td>\n",
       "      <td>GISELLE</td>\n",
       "      <td>38</td>\n",
       "      <td>51</td>\n",
       "    </tr>\n",
       "    <tr>\n",
       "      <th>4</th>\n",
       "      <td>2011</td>\n",
       "      <td>FEMALE</td>\n",
       "      <td>HISPANIC</td>\n",
       "      <td>GRACE</td>\n",
       "      <td>36</td>\n",
       "      <td>53</td>\n",
       "    </tr>\n",
       "  </tbody>\n",
       "</table>\n",
       "</div>"
      ],
      "text/plain": [
       "   Year of Birth  Gender Ethnicity Child's First Name  Count  Rank\n",
       "0           2011  FEMALE  HISPANIC          GERALDINE     13    75\n",
       "1           2011  FEMALE  HISPANIC                GIA     21    67\n",
       "2           2011  FEMALE  HISPANIC             GIANNA     49    42\n",
       "3           2011  FEMALE  HISPANIC            GISELLE     38    51\n",
       "4           2011  FEMALE  HISPANIC              GRACE     36    53"
      ]
     },
     "execution_count": 2,
     "metadata": {},
     "output_type": "execute_result"
    }
   ],
   "source": [
    "df=pd.read_csv('C:/Users/HP/Desktop/Gomycode-Ds/Popular_Baby_Names.csv')\n",
    "print(df.shape)\n",
    "df.head()"
   ]
  },
  {
   "cell_type": "code",
   "execution_count": 24,
   "id": "19b4186a",
   "metadata": {},
   "outputs": [
    {
     "data": {
      "text/plain": [
       "Index(['Year of Birth', 'Gender', 'Ethnicity', 'Child's First Name', 'Count',\n",
       "       'Rank'],\n",
       "      dtype='object')"
      ]
     },
     "execution_count": 24,
     "metadata": {},
     "output_type": "execute_result"
    }
   ],
   "source": [
    "df.columns"
   ]
  },
  {
   "cell_type": "markdown",
   "id": "b34be389",
   "metadata": {},
   "source": [
    "Using same case for all the categorical columns"
   ]
  },
  {
   "cell_type": "code",
   "execution_count": null,
   "id": "b2df7a21",
   "metadata": {},
   "outputs": [],
   "source": []
  },
  {
   "cell_type": "code",
   "execution_count": 27,
   "id": "7722fe37",
   "metadata": {},
   "outputs": [
    {
     "data": {
      "text/plain": [
       "array(['GERALDINE', 'GIA', 'GIANNA', ..., 'Malani', 'Amoura', 'India'],\n",
       "      dtype=object)"
      ]
     },
     "execution_count": 27,
     "metadata": {},
     "output_type": "execute_result"
    }
   ],
   "source": [
    "df['Child\\'s First Name'].unique()"
   ]
  },
  {
   "cell_type": "code",
   "execution_count": 28,
   "id": "d0d7a71f",
   "metadata": {},
   "outputs": [],
   "source": [
    "#columns rename\n",
    "df.rename(columns={'Child\\'s First Name':'Child_Name'}, inplace=True)"
   ]
  },
  {
   "cell_type": "code",
   "execution_count": 29,
   "id": "2328131f",
   "metadata": {},
   "outputs": [
    {
     "data": {
      "text/plain": [
       "Year of Birth      11\n",
       "Gender              2\n",
       "Ethnicity           7\n",
       "Child_Name       3302\n",
       "Count             297\n",
       "Rank              102\n",
       "dtype: int64"
      ]
     },
     "execution_count": 29,
     "metadata": {},
     "output_type": "execute_result"
    }
   ],
   "source": [
    "df.nunique()"
   ]
  },
  {
   "cell_type": "code",
   "execution_count": 31,
   "id": "09689b34",
   "metadata": {},
   "outputs": [],
   "source": [
    "df['Gender']=df['Gender'].apply(lambda x:x.title())"
   ]
  },
  {
   "cell_type": "code",
   "execution_count": 36,
   "id": "bb5b08f2",
   "metadata": {},
   "outputs": [],
   "source": [
    "def to_title(row):\n",
    "    return row.str.title()"
   ]
  },
  {
   "cell_type": "code",
   "execution_count": 37,
   "id": "490a65d2",
   "metadata": {},
   "outputs": [
    {
     "data": {
      "text/html": [
       "<div>\n",
       "<style scoped>\n",
       "    .dataframe tbody tr th:only-of-type {\n",
       "        vertical-align: middle;\n",
       "    }\n",
       "\n",
       "    .dataframe tbody tr th {\n",
       "        vertical-align: top;\n",
       "    }\n",
       "\n",
       "    .dataframe thead th {\n",
       "        text-align: right;\n",
       "    }\n",
       "</style>\n",
       "<table border=\"1\" class=\"dataframe\">\n",
       "  <thead>\n",
       "    <tr style=\"text-align: right;\">\n",
       "      <th></th>\n",
       "      <th>Gender</th>\n",
       "      <th>Ethnicity</th>\n",
       "      <th>Child_Name</th>\n",
       "    </tr>\n",
       "  </thead>\n",
       "  <tbody>\n",
       "    <tr>\n",
       "      <th>0</th>\n",
       "      <td>Female</td>\n",
       "      <td>HISPANIC</td>\n",
       "      <td>GERALDINE</td>\n",
       "    </tr>\n",
       "    <tr>\n",
       "      <th>1</th>\n",
       "      <td>Female</td>\n",
       "      <td>HISPANIC</td>\n",
       "      <td>GIA</td>\n",
       "    </tr>\n",
       "    <tr>\n",
       "      <th>2</th>\n",
       "      <td>Female</td>\n",
       "      <td>HISPANIC</td>\n",
       "      <td>GIANNA</td>\n",
       "    </tr>\n",
       "    <tr>\n",
       "      <th>3</th>\n",
       "      <td>Female</td>\n",
       "      <td>HISPANIC</td>\n",
       "      <td>GISELLE</td>\n",
       "    </tr>\n",
       "    <tr>\n",
       "      <th>4</th>\n",
       "      <td>Female</td>\n",
       "      <td>HISPANIC</td>\n",
       "      <td>GRACE</td>\n",
       "    </tr>\n",
       "    <tr>\n",
       "      <th>...</th>\n",
       "      <td>...</td>\n",
       "      <td>...</td>\n",
       "      <td>...</td>\n",
       "    </tr>\n",
       "    <tr>\n",
       "      <th>69209</th>\n",
       "      <td>Male</td>\n",
       "      <td>BLACK NON HISP</td>\n",
       "      <td>CAYDEN</td>\n",
       "    </tr>\n",
       "    <tr>\n",
       "      <th>69210</th>\n",
       "      <td>Female</td>\n",
       "      <td>WHITE NON HISPANIC</td>\n",
       "      <td>Margaret</td>\n",
       "    </tr>\n",
       "    <tr>\n",
       "      <th>69211</th>\n",
       "      <td>Female</td>\n",
       "      <td>WHITE NON HISPANIC</td>\n",
       "      <td>Tamar</td>\n",
       "    </tr>\n",
       "    <tr>\n",
       "      <th>69212</th>\n",
       "      <td>Female</td>\n",
       "      <td>WHITE NON HISPANIC</td>\n",
       "      <td>Amanda</td>\n",
       "    </tr>\n",
       "    <tr>\n",
       "      <th>69213</th>\n",
       "      <td>Female</td>\n",
       "      <td>HISPANIC</td>\n",
       "      <td>ANNA</td>\n",
       "    </tr>\n",
       "  </tbody>\n",
       "</table>\n",
       "<p>69214 rows × 3 columns</p>\n",
       "</div>"
      ],
      "text/plain": [
       "       Gender           Ethnicity Child_Name\n",
       "0      Female            HISPANIC  GERALDINE\n",
       "1      Female            HISPANIC        GIA\n",
       "2      Female            HISPANIC     GIANNA\n",
       "3      Female            HISPANIC    GISELLE\n",
       "4      Female            HISPANIC      GRACE\n",
       "...       ...                 ...        ...\n",
       "69209    Male      BLACK NON HISP     CAYDEN\n",
       "69210  Female  WHITE NON HISPANIC   Margaret\n",
       "69211  Female  WHITE NON HISPANIC      Tamar\n",
       "69212  Female  WHITE NON HISPANIC     Amanda\n",
       "69213  Female            HISPANIC       ANNA\n",
       "\n",
       "[69214 rows x 3 columns]"
      ]
     },
     "execution_count": 37,
     "metadata": {},
     "output_type": "execute_result"
    }
   ],
   "source": [
    "obj_dt=df.select_dtypes('object')\n",
    "obj_dt"
   ]
  },
  {
   "cell_type": "code",
   "execution_count": 38,
   "id": "6920d2ee",
   "metadata": {},
   "outputs": [
    {
     "data": {
      "text/html": [
       "<div>\n",
       "<style scoped>\n",
       "    .dataframe tbody tr th:only-of-type {\n",
       "        vertical-align: middle;\n",
       "    }\n",
       "\n",
       "    .dataframe tbody tr th {\n",
       "        vertical-align: top;\n",
       "    }\n",
       "\n",
       "    .dataframe thead th {\n",
       "        text-align: right;\n",
       "    }\n",
       "</style>\n",
       "<table border=\"1\" class=\"dataframe\">\n",
       "  <thead>\n",
       "    <tr style=\"text-align: right;\">\n",
       "      <th></th>\n",
       "      <th>Gender</th>\n",
       "      <th>Ethnicity</th>\n",
       "      <th>Child_Name</th>\n",
       "    </tr>\n",
       "  </thead>\n",
       "  <tbody>\n",
       "    <tr>\n",
       "      <th>0</th>\n",
       "      <td>Female</td>\n",
       "      <td>Hispanic</td>\n",
       "      <td>Geraldine</td>\n",
       "    </tr>\n",
       "    <tr>\n",
       "      <th>1</th>\n",
       "      <td>Female</td>\n",
       "      <td>Hispanic</td>\n",
       "      <td>Gia</td>\n",
       "    </tr>\n",
       "    <tr>\n",
       "      <th>2</th>\n",
       "      <td>Female</td>\n",
       "      <td>Hispanic</td>\n",
       "      <td>Gianna</td>\n",
       "    </tr>\n",
       "    <tr>\n",
       "      <th>3</th>\n",
       "      <td>Female</td>\n",
       "      <td>Hispanic</td>\n",
       "      <td>Giselle</td>\n",
       "    </tr>\n",
       "    <tr>\n",
       "      <th>4</th>\n",
       "      <td>Female</td>\n",
       "      <td>Hispanic</td>\n",
       "      <td>Grace</td>\n",
       "    </tr>\n",
       "    <tr>\n",
       "      <th>...</th>\n",
       "      <td>...</td>\n",
       "      <td>...</td>\n",
       "      <td>...</td>\n",
       "    </tr>\n",
       "    <tr>\n",
       "      <th>69209</th>\n",
       "      <td>Male</td>\n",
       "      <td>Black Non Hisp</td>\n",
       "      <td>Cayden</td>\n",
       "    </tr>\n",
       "    <tr>\n",
       "      <th>69210</th>\n",
       "      <td>Female</td>\n",
       "      <td>White Non Hispanic</td>\n",
       "      <td>Margaret</td>\n",
       "    </tr>\n",
       "    <tr>\n",
       "      <th>69211</th>\n",
       "      <td>Female</td>\n",
       "      <td>White Non Hispanic</td>\n",
       "      <td>Tamar</td>\n",
       "    </tr>\n",
       "    <tr>\n",
       "      <th>69212</th>\n",
       "      <td>Female</td>\n",
       "      <td>White Non Hispanic</td>\n",
       "      <td>Amanda</td>\n",
       "    </tr>\n",
       "    <tr>\n",
       "      <th>69213</th>\n",
       "      <td>Female</td>\n",
       "      <td>Hispanic</td>\n",
       "      <td>Anna</td>\n",
       "    </tr>\n",
       "  </tbody>\n",
       "</table>\n",
       "<p>69214 rows × 3 columns</p>\n",
       "</div>"
      ],
      "text/plain": [
       "       Gender           Ethnicity Child_Name\n",
       "0      Female            Hispanic  Geraldine\n",
       "1      Female            Hispanic        Gia\n",
       "2      Female            Hispanic     Gianna\n",
       "3      Female            Hispanic    Giselle\n",
       "4      Female            Hispanic      Grace\n",
       "...       ...                 ...        ...\n",
       "69209    Male      Black Non Hisp     Cayden\n",
       "69210  Female  White Non Hispanic   Margaret\n",
       "69211  Female  White Non Hispanic      Tamar\n",
       "69212  Female  White Non Hispanic     Amanda\n",
       "69213  Female            Hispanic       Anna\n",
       "\n",
       "[69214 rows x 3 columns]"
      ]
     },
     "execution_count": 38,
     "metadata": {},
     "output_type": "execute_result"
    }
   ],
   "source": [
    "obj_dt=obj_dt.apply(to_title)\n",
    "obj_dt"
   ]
  },
  {
   "cell_type": "code",
   "execution_count": 32,
   "id": "7599b06c",
   "metadata": {},
   "outputs": [
    {
     "data": {
      "text/plain": [
       "array(['Female', 'Male'], dtype=object)"
      ]
     },
     "execution_count": 32,
     "metadata": {},
     "output_type": "execute_result"
    }
   ],
   "source": [
    "df['Gender'].unique()"
   ]
  },
  {
   "cell_type": "code",
   "execution_count": 3,
   "id": "37502a9c",
   "metadata": {},
   "outputs": [
    {
     "name": "stdout",
     "output_type": "stream",
     "text": [
      "<class 'pandas.core.frame.DataFrame'>\n",
      "RangeIndex: 69214 entries, 0 to 69213\n",
      "Data columns (total 6 columns):\n",
      " #   Column              Non-Null Count  Dtype \n",
      "---  ------              --------------  ----- \n",
      " 0   Year of Birth       69214 non-null  int64 \n",
      " 1   Gender              69214 non-null  object\n",
      " 2   Ethnicity           69214 non-null  object\n",
      " 3   Child's First Name  69214 non-null  object\n",
      " 4   Count               69214 non-null  int64 \n",
      " 5   Rank                69214 non-null  int64 \n",
      "dtypes: int64(3), object(3)\n",
      "memory usage: 3.2+ MB\n"
     ]
    }
   ],
   "source": [
    "df.info()"
   ]
  },
  {
   "cell_type": "code",
   "execution_count": 4,
   "id": "58b8ed13",
   "metadata": {},
   "outputs": [
    {
     "data": {
      "text/plain": [
       "Index(['Year of Birth', 'Count', 'Rank'], dtype='object')"
      ]
     },
     "execution_count": 4,
     "metadata": {},
     "output_type": "execute_result"
    }
   ],
   "source": [
    "df.select_dtypes('number').columns"
   ]
  },
  {
   "cell_type": "code",
   "execution_count": 5,
   "id": "3bc69eb3",
   "metadata": {},
   "outputs": [],
   "source": [
    "def string_lower(rows):\n",
    "    return rows.str.lower()"
   ]
  },
  {
   "cell_type": "code",
   "execution_count": 7,
   "id": "d618ef26",
   "metadata": {},
   "outputs": [],
   "source": [
    "df['Gender']=string_lower(df['Gender'])"
   ]
  },
  {
   "cell_type": "code",
   "execution_count": 8,
   "id": "ea98b67e",
   "metadata": {},
   "outputs": [
    {
     "data": {
      "text/plain": [
       "0        female\n",
       "1        female\n",
       "2        female\n",
       "3        female\n",
       "4        female\n",
       "          ...  \n",
       "69209      male\n",
       "69210    female\n",
       "69211    female\n",
       "69212    female\n",
       "69213    female\n",
       "Name: Gender, Length: 69214, dtype: object"
      ]
     },
     "execution_count": 8,
     "metadata": {},
     "output_type": "execute_result"
    }
   ],
   "source": [
    "df['Gender']"
   ]
  },
  {
   "cell_type": "code",
   "execution_count": 16,
   "id": "6e802b9a",
   "metadata": {},
   "outputs": [
    {
     "data": {
      "text/html": [
       "<div>\n",
       "<style scoped>\n",
       "    .dataframe tbody tr th:only-of-type {\n",
       "        vertical-align: middle;\n",
       "    }\n",
       "\n",
       "    .dataframe tbody tr th {\n",
       "        vertical-align: top;\n",
       "    }\n",
       "\n",
       "    .dataframe thead th {\n",
       "        text-align: right;\n",
       "    }\n",
       "</style>\n",
       "<table border=\"1\" class=\"dataframe\">\n",
       "  <thead>\n",
       "    <tr style=\"text-align: right;\">\n",
       "      <th></th>\n",
       "      <th>Gender</th>\n",
       "      <th>Ethnicity</th>\n",
       "      <th>Child's First Name</th>\n",
       "    </tr>\n",
       "  </thead>\n",
       "  <tbody>\n",
       "    <tr>\n",
       "      <th>0</th>\n",
       "      <td>female</td>\n",
       "      <td>hispanic</td>\n",
       "      <td>geraldine</td>\n",
       "    </tr>\n",
       "    <tr>\n",
       "      <th>1</th>\n",
       "      <td>female</td>\n",
       "      <td>hispanic</td>\n",
       "      <td>gia</td>\n",
       "    </tr>\n",
       "    <tr>\n",
       "      <th>2</th>\n",
       "      <td>female</td>\n",
       "      <td>hispanic</td>\n",
       "      <td>gianna</td>\n",
       "    </tr>\n",
       "    <tr>\n",
       "      <th>3</th>\n",
       "      <td>female</td>\n",
       "      <td>hispanic</td>\n",
       "      <td>giselle</td>\n",
       "    </tr>\n",
       "    <tr>\n",
       "      <th>4</th>\n",
       "      <td>female</td>\n",
       "      <td>hispanic</td>\n",
       "      <td>grace</td>\n",
       "    </tr>\n",
       "    <tr>\n",
       "      <th>...</th>\n",
       "      <td>...</td>\n",
       "      <td>...</td>\n",
       "      <td>...</td>\n",
       "    </tr>\n",
       "    <tr>\n",
       "      <th>69209</th>\n",
       "      <td>male</td>\n",
       "      <td>black non hisp</td>\n",
       "      <td>cayden</td>\n",
       "    </tr>\n",
       "    <tr>\n",
       "      <th>69210</th>\n",
       "      <td>female</td>\n",
       "      <td>white non hispanic</td>\n",
       "      <td>margaret</td>\n",
       "    </tr>\n",
       "    <tr>\n",
       "      <th>69211</th>\n",
       "      <td>female</td>\n",
       "      <td>white non hispanic</td>\n",
       "      <td>tamar</td>\n",
       "    </tr>\n",
       "    <tr>\n",
       "      <th>69212</th>\n",
       "      <td>female</td>\n",
       "      <td>white non hispanic</td>\n",
       "      <td>amanda</td>\n",
       "    </tr>\n",
       "    <tr>\n",
       "      <th>69213</th>\n",
       "      <td>female</td>\n",
       "      <td>hispanic</td>\n",
       "      <td>anna</td>\n",
       "    </tr>\n",
       "  </tbody>\n",
       "</table>\n",
       "<p>69214 rows × 3 columns</p>\n",
       "</div>"
      ],
      "text/plain": [
       "       Gender           Ethnicity Child's First Name\n",
       "0      female            hispanic          geraldine\n",
       "1      female            hispanic                gia\n",
       "2      female            hispanic             gianna\n",
       "3      female            hispanic            giselle\n",
       "4      female            hispanic              grace\n",
       "...       ...                 ...                ...\n",
       "69209    male      black non hisp             cayden\n",
       "69210  female  white non hispanic           margaret\n",
       "69211  female  white non hispanic              tamar\n",
       "69212  female  white non hispanic             amanda\n",
       "69213  female            hispanic               anna\n",
       "\n",
       "[69214 rows x 3 columns]"
      ]
     },
     "execution_count": 16,
     "metadata": {},
     "output_type": "execute_result"
    }
   ],
   "source": [
    "new_object=df.select_dtypes('object').apply(string_lower)\n",
    "new_object"
   ]
  },
  {
   "cell_type": "code",
   "execution_count": 17,
   "id": "a85808c0",
   "metadata": {},
   "outputs": [],
   "source": [
    "num_val=df.select_dtypes('number')"
   ]
  },
  {
   "cell_type": "code",
   "execution_count": 18,
   "id": "34568d16",
   "metadata": {},
   "outputs": [
    {
     "data": {
      "text/html": [
       "<div>\n",
       "<style scoped>\n",
       "    .dataframe tbody tr th:only-of-type {\n",
       "        vertical-align: middle;\n",
       "    }\n",
       "\n",
       "    .dataframe tbody tr th {\n",
       "        vertical-align: top;\n",
       "    }\n",
       "\n",
       "    .dataframe thead th {\n",
       "        text-align: right;\n",
       "    }\n",
       "</style>\n",
       "<table border=\"1\" class=\"dataframe\">\n",
       "  <thead>\n",
       "    <tr style=\"text-align: right;\">\n",
       "      <th></th>\n",
       "      <th>Year of Birth</th>\n",
       "      <th>Count</th>\n",
       "      <th>Rank</th>\n",
       "      <th>Gender</th>\n",
       "      <th>Ethnicity</th>\n",
       "      <th>Child's First Name</th>\n",
       "    </tr>\n",
       "  </thead>\n",
       "  <tbody>\n",
       "    <tr>\n",
       "      <th>0</th>\n",
       "      <td>2011</td>\n",
       "      <td>13</td>\n",
       "      <td>75</td>\n",
       "      <td>female</td>\n",
       "      <td>hispanic</td>\n",
       "      <td>geraldine</td>\n",
       "    </tr>\n",
       "    <tr>\n",
       "      <th>1</th>\n",
       "      <td>2011</td>\n",
       "      <td>21</td>\n",
       "      <td>67</td>\n",
       "      <td>female</td>\n",
       "      <td>hispanic</td>\n",
       "      <td>gia</td>\n",
       "    </tr>\n",
       "    <tr>\n",
       "      <th>2</th>\n",
       "      <td>2011</td>\n",
       "      <td>49</td>\n",
       "      <td>42</td>\n",
       "      <td>female</td>\n",
       "      <td>hispanic</td>\n",
       "      <td>gianna</td>\n",
       "    </tr>\n",
       "    <tr>\n",
       "      <th>3</th>\n",
       "      <td>2011</td>\n",
       "      <td>38</td>\n",
       "      <td>51</td>\n",
       "      <td>female</td>\n",
       "      <td>hispanic</td>\n",
       "      <td>giselle</td>\n",
       "    </tr>\n",
       "    <tr>\n",
       "      <th>4</th>\n",
       "      <td>2011</td>\n",
       "      <td>36</td>\n",
       "      <td>53</td>\n",
       "      <td>female</td>\n",
       "      <td>hispanic</td>\n",
       "      <td>grace</td>\n",
       "    </tr>\n",
       "  </tbody>\n",
       "</table>\n",
       "</div>"
      ],
      "text/plain": [
       "   Year of Birth  Count  Rank  Gender Ethnicity Child's First Name\n",
       "0           2011     13    75  female  hispanic          geraldine\n",
       "1           2011     21    67  female  hispanic                gia\n",
       "2           2011     49    42  female  hispanic             gianna\n",
       "3           2011     38    51  female  hispanic            giselle\n",
       "4           2011     36    53  female  hispanic              grace"
      ]
     },
     "execution_count": 18,
     "metadata": {},
     "output_type": "execute_result"
    }
   ],
   "source": [
    "new_df=num_val.join(new_object)\n",
    "new_df.head()"
   ]
  },
  {
   "cell_type": "code",
   "execution_count": null,
   "id": "1b605eae",
   "metadata": {},
   "outputs": [],
   "source": []
  }
 ],
 "metadata": {
  "kernelspec": {
   "display_name": "Python 3 (ipykernel)",
   "language": "python",
   "name": "python3"
  },
  "language_info": {
   "codemirror_mode": {
    "name": "ipython",
    "version": 3
   },
   "file_extension": ".py",
   "mimetype": "text/x-python",
   "name": "python",
   "nbconvert_exporter": "python",
   "pygments_lexer": "ipython3",
   "version": "3.11.4"
  }
 },
 "nbformat": 4,
 "nbformat_minor": 5
}
